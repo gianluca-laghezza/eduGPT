{
 "cells": [
  {
   "cell_type": "markdown",
   "id": "07dfa9b3",
   "metadata": {},
   "source": [
    "# gpt\n",
    "\n",
    "An educational implementation of the gpt model that follows Andrej Karpathy's [nanoGPT](https://github.com/karpathy/nanoGPT).\n",
    "\n",
    "- gpt.py implements a decoder-only transformer model as described in [Language Models are Unsupervised Multitask Learners](https://d4mucfpksywv.cloudfront.net/better-language-models/language_models_are_unsupervised_multitask_learners.pdf)\n",
    "- train.py is the training script where you can override the model hyper parameters and configs\n",
    "- input.txt is the tiny Shakespeare dataset used as the training set\n",
    "\n",
    "---\n",
    "\n",
    "## Usage\n",
    "\n",
    "You can simply run train.py in the console. If you want to change any config/hyper-parameter you can pass it as an argument to train.py as shown below\n",
    "\n",
    "```console\n",
    "$ python train.py --device='cuda' --compile=False --out_dir='16_layers' --n_layer=16 --log_interval=20\n",
    "```\n",
    "\n",
    " \n"
   ]
  },
  {
   "cell_type": "code",
   "execution_count": null,
   "id": "e18f2b81",
   "metadata": {},
   "outputs": [],
   "source": []
  }
 ],
 "metadata": {
  "kernelspec": {
   "display_name": "Python 3 (ipykernel)",
   "language": "python",
   "name": "python3"
  },
  "language_info": {
   "codemirror_mode": {
    "name": "ipython",
    "version": 3
   },
   "file_extension": ".py",
   "mimetype": "text/x-python",
   "name": "python",
   "nbconvert_exporter": "python",
   "pygments_lexer": "ipython3",
   "version": "3.8.17"
  }
 },
 "nbformat": 4,
 "nbformat_minor": 5
}
